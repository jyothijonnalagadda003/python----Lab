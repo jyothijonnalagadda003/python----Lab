{
  "nbformat": 4,
  "nbformat_minor": 0,
  "metadata": {
    "colab": {
      "name": "19A21A0587 --Jyothi",
      "provenance": [],
      "collapsed_sections": [],
      "authorship_tag": "ABX9TyPgADXF0g1RVYJdsmHTkKyS",
      "include_colab_link": true
    },
    "kernelspec": {
      "name": "python3",
      "display_name": "Python 3"
    },
    "language_info": {
      "name": "python"
    }
  },
  "cells": [
    {
      "cell_type": "markdown",
      "metadata": {
        "id": "view-in-github",
        "colab_type": "text"
      },
      "source": [
        "<a href=\"https://colab.research.google.com/github/jyothijonnalagadda003/python----Lab/blob/main/19A21A0587_Jyothi.ipynb\" target=\"_parent\"><img src=\"https://colab.research.google.com/assets/colab-badge.svg\" alt=\"Open In Colab\"/></a>"
      ]
    },
    {
      "cell_type": "markdown",
      "metadata": {
        "id": "Pw-6Sz0HI7eV"
      },
      "source": [
        "NAME : J.Jyothi Naga Ratnam\n",
        " \n",
        "REG NO : 19A21A0587\n",
        " \n",
        "SEC : CSE-B"
      ]
    },
    {
      "cell_type": "markdown",
      "metadata": {
        "id": "Ao2K_QwQJR5L"
      },
      "source": [
        " • EXERCISE - 1\n",
        " \n",
        "A.WRITE PROGRAM IN INTERACTIVE,INTERPRETER,PYHON SCRIPT MODE.\n",
        "B.Write a program to purposefully raise Indentation Error and Correct it"
      ]
    },
    {
      "cell_type": "code",
      "metadata": {
        "colab": {
          "base_uri": "https://localhost:8080/"
        },
        "id": "sYral8wbJUiW",
        "outputId": "c957ac01-6155-44b1-9e1b-1654302c917a"
      },
      "source": [
        " \n",
        "a=87\n",
        "b=78\n",
        "a,b=b,a\n",
        "print(a,b)"
      ],
      "execution_count": null,
      "outputs": [
        {
          "output_type": "stream",
          "text": [
            "78 87\n"
          ],
          "name": "stdout"
        }
      ]
    },
    {
      "cell_type": "code",
      "metadata": {
        "colab": {
          "base_uri": "https://localhost:8080/"
        },
        "id": "lj06WResJcvB",
        "outputId": "e57c8244-1454-4a12-f3ff-5a1e6435f82c"
      },
      "source": [
        "a=input(\"enter a value:\")\n",
        "b=input(\"enter b value:\")\n",
        "c=a+b;\n",
        "print(\"sum is \",c,sep=\"\\t\")\n",
        "c=int(a)+int(b)\n",
        "print(\"sum of {} and {} is : {}\".format(a,b,c))\n",
        "print(\"sum of %s and %s is:%d\"%(a,b,c))\n",
        "x=10\n",
        "y=123\n",
        "z=x+y;\n",
        "print(\"sum is\",z,sep='\\t' )"
      ],
      "execution_count": null,
      "outputs": [
        {
          "output_type": "stream",
          "text": [
            "enter a value:25\n",
            "enter b value:35\n",
            "sum is \t2535\n",
            "sum of 25 and 35 is : 60\n",
            "sum of 25 and 35 is:60\n",
            "sum is\t133\n"
          ],
          "name": "stdout"
        }
      ]
    },
    {
      "cell_type": "code",
      "metadata": {
        "id": "-E1VpUXtJmWG",
        "colab": {
          "base_uri": "https://localhost:8080/"
        },
        "outputId": "6b46f14c-0c49-444d-ea11-544c00e067da"
      },
      "source": [
        "print(\"welcome to python\")\n",
        "a=10\n",
        "b=20\n",
        "print(\"the value of a :\",a)\n",
        "print(\"the value of b :\",b)\n",
        "if(a>b):\n",
        "       print(\"a is big\");\n",
        "       print(\"ifbblock ends\")\n",
        "else:\n",
        "            print(\"b is big\")\n",
        "            print(\"elseblock ends\")"
      ],
      "execution_count": null,
      "outputs": [
        {
          "output_type": "stream",
          "text": [
            "welcome to python\n",
            "the value of a : 10\n",
            "the value of b : 20\n",
            "b is big\n",
            "elseblock ends\n"
          ],
          "name": "stdout"
        }
      ]
    },
    {
      "cell_type": "markdown",
      "metadata": {
        "id": "2kc_aas9MglL"
      },
      "source": [
        "  • EXERCISE - 2\n",
        " \n",
        "A.COMPUTE DISTANCE BETWEEN TWO POINTS\n",
        " \n",
        "B.TAKE TWO NUMBERS ON COMMAND LINE ARGUMENTS AND PRINT THE SUM."
      ]
    },
    {
      "cell_type": "code",
      "metadata": {
        "colab": {
          "base_uri": "https://localhost:8080/"
        },
        "id": "wQGHLVDtMivv",
        "outputId": "69464580-47fc-423b-8901-dcfc72ccd79e"
      },
      "source": [
        "x1=20\n",
        "x2=25\n",
        "y1=30\n",
        "y2=32\n",
        "z=(pow((x2-x1),2)+pow((y2-y1),2))**0.5\n",
        "print(z)"
      ],
      "execution_count": null,
      "outputs": [
        {
          "output_type": "stream",
          "text": [
            "5.385164807134504\n"
          ],
          "name": "stdout"
        }
      ]
    },
    {
      "cell_type": "code",
      "metadata": {
        "colab": {
          "base_uri": "https://localhost:8080/"
        },
        "id": "iW8dxH4GMrwj",
        "outputId": "5ef16d9e-e986-413c-e3a2-9db6ceb2e48f"
      },
      "source": [
        "import math\n",
        "x1=int(input(\"enter  x1 value:\"))\n",
        "x2=int(input(\"enter  x2 value:\"))\n",
        "y1=int(input(\"enter  y1 value:\"))\n",
        "y2=int(input(\"enter  y2 value:\"))\n",
        "z=math.sqrt((x2-x1)**2+(y2-y1)**2)\n",
        "print(\"the distance between two points is :\",z)\n",
        "print(\"the distance between two points is :\",z,sep='\\t')\n",
        "print(\"the distance between ({}, {})and ({},{}) is  :{}\".format(x1,y1,x2,y2,z))\n",
        " \n",
        "print(\"the distance between (%d, %d)and (%d,%d) is  :%f\"%(x1,y1,x2,y2,z))"
      ],
      "execution_count": null,
      "outputs": [
        {
          "output_type": "stream",
          "text": [
            "enter  x1 value:21\n",
            "enter  x2 value:32\n",
            "enter  y1 value:25\n",
            "enter  y2 value:36\n",
            "the distance between two points is : 15.556349186104045\n",
            "the distance between two points is :\t15.556349186104045\n",
            "the distance between (21, 25)and (32,36) is  :15.556349186104045\n",
            "the distance between (21, 25)and (32,36) is  :15.556349\n"
          ],
          "name": "stdout"
        }
      ]
    },
    {
      "cell_type": "code",
      "metadata": {
        "id": "IvUjTZr6M0vW"
      },
      "source": [
        "                                \n",
        "import sys\n",
        "a=sys.argv[1]\n",
        "b=sys.argv[2]\n",
        "sum=int(a)+int(b)\n",
        "print(\"summ of two number is:\",sum)"
      ],
      "execution_count": null,
      "outputs": []
    },
    {
      "cell_type": "markdown",
      "metadata": {
        "id": "pV2LVXrnM6EY"
      },
      "source": [
        " • EXERCISE - 3\n",
        " \n",
        "a) Write a Program for checking whether the given number is an even number or not.\n",
        " \n",
        "b) Using a for loop, write a program that prints out the decimal equivalents of 1/2, 1/3, 1/4, . . .1/10\n",
        " \n",
        "c) Write a program using a for loop that loops over a sequence. What is sequence?\n",
        " \n",
        "d) Write a program using a while loop that asks the user for a number, and prints a countdownfrom that number to zero"
      ]
    },
    {
      "cell_type": "code",
      "metadata": {
        "colab": {
          "base_uri": "https://localhost:8080/"
        },
        "id": "u6z7i7VGM_XR",
        "outputId": "13dac368-3081-4c6a-8e1b-2aa5d28e0124"
      },
      "source": [
        "n=int(input(\"enter a number:\"))\n",
        "if (n%2)==0:\n",
        "        print(\"given number is even\")\n",
        "else:\n",
        "      print(\"given number is odd\")"
      ],
      "execution_count": null,
      "outputs": [
        {
          "output_type": "stream",
          "text": [
            "enter a number:4\n",
            "given number is even\n"
          ],
          "name": "stdout"
        }
      ]
    },
    {
      "cell_type": "code",
      "metadata": {
        "colab": {
          "base_uri": "https://localhost:8080/"
        },
        "id": "QpEaPMNTNDoU",
        "outputId": "8f804fda-0312-4698-8fa1-980332010821"
      },
      "source": [
        "n=int(input(\"enter a number:\"))\n",
        "for i in range(2,n):\n",
        "    de=1/i;\n",
        "    print(\"1/\",i,\"=\",de)"
      ],
      "execution_count": null,
      "outputs": [
        {
          "output_type": "stream",
          "text": [
            "enter a number:3\n",
            "1/ 2 = 0.5\n"
          ],
          "name": "stdout"
        }
      ]
    },
    {
      "cell_type": "code",
      "metadata": {
        "colab": {
          "base_uri": "https://localhost:8080/"
        },
        "id": "Myhc1owdNH5r",
        "outputId": "71a8f778-0667-4b76-a681-25b7c1cd0f2d"
      },
      "source": [
        "#program using a for a loop that loops over a sequence\n",
        "print(\"loop sequence\")\n",
        "num=[45,25,2,28,3,25]\n",
        "for i in num:\n",
        "    print(i)\n",
        " \n",
        "#string sequence\n",
        "print(\"string sequence\")\n",
        "days=[\"sun\",\"mon\",\"tue\",\"wed\",\"thur\",\"fri\",\"st\"]\n",
        "for d in days:\n",
        "    print(d)\n",
        "    \n",
        "#bothh sequence\n",
        "print(\"sequence\")\n",
        "arr=[123,\"abc\",5.6,'h',-33,\"xy\",True]\n",
        "for x in arr:\n",
        "      print(x)"
      ],
      "execution_count": null,
      "outputs": [
        {
          "output_type": "stream",
          "text": [
            "loop sequence\n",
            "45\n",
            "25\n",
            "2\n",
            "28\n",
            "3\n",
            "25\n",
            "string sequence\n",
            "sun\n",
            "mon\n",
            "tue\n",
            "wed\n",
            "thur\n",
            "fri\n",
            "st\n",
            "sequence\n",
            "123\n",
            "abc\n",
            "5.6\n",
            "h\n",
            "-33\n",
            "xy\n",
            "True\n"
          ],
          "name": "stdout"
        }
      ]
    },
    {
      "cell_type": "code",
      "metadata": {
        "id": "JxXC1JP9NOHY"
      },
      "source": [
        "#countdown seq\n",
        "n=int(input(\"enter the numbr:\"))\n",
        "while n>0:\n",
        "      print(n)\n",
        "      n=n-1"
      ],
      "execution_count": null,
      "outputs": []
    },
    {
      "cell_type": "markdown",
      "metadata": {
        "id": "wj3l5KahNR8q"
      },
      "source": [
        " • EXERCISE - 4\n",
        " \n",
        "a) Find the sum of all the primes below two million. Each new term in the Fibonacci sequence is generated by adding the previous two terms. Bystarting with 1 and 2, the first 10 terms will be: 1, 2, 3, 5, 8, 13, 21, 34, 55, 89, ...\n",
        " \n",
        "b) By considering the terms in the Fibonacci sequence whose values do not exceed four million,find the sum of the even-valued terms."
      ]
    },
    {
      "cell_type": "code",
      "metadata": {
        "id": "C2rBNI_yNTew"
      },
      "source": [
        "n=int(input(\"enter   a anum:\"))\n",
        "a=0\n",
        "b=1\n",
        "c=a+b\n",
        "st=\"\"\n",
        "sum=0\n",
        "con=0\n",
        "while con<=n:\n",
        "    st+=\"\"+str(c)\n",
        "    sum+=c        \n",
        "    a=b\n",
        "    b=c \n",
        "    c=a+b\n",
        "    con+=1\n",
        "print(st)\n",
        "print(\"sum of fibonacii series:\",sum)"
      ],
      "execution_count": null,
      "outputs": []
    },
    {
      "cell_type": "code",
      "metadata": {
        "id": "cWUa6rxbNYrd"
      },
      "source": [
        "n=int(input(\"enter a number:\"))\n",
        "c=0\n",
        " \n",
        " \n",
        "st=\"\"\n",
        "sum=0\n",
        " \n",
        "for i in range(2,n):\n",
        " state=True\n",
        "for j in range(2,i):\n",
        " if(i%j==0):\n",
        "        state=False\n",
        "        break;\n",
        "if state==True:\n",
        "            st+=\"\"+str(i)\n",
        "            c+=1\n",
        "            sum+=i\n",
        " \n",
        "print(\"prime numbers\")\n",
        "print(st)\n",
        " \n",
        "print(\"total count of the prime numbers:\",c)\n",
        "print(\"sum of all prime nums:\",sum)"
      ],
      "execution_count": null,
      "outputs": []
    },
    {
      "cell_type": "markdown",
      "metadata": {
        "id": "ktkjNUq2NlE1"
      },
      "source": [
        " • EXERCISE - 5 :: DS\n",
        " \n",
        "a) Write a program to count the numbers of characters in the string and store them in adictionary data structure\n",
        "b) Write a program to use split and join methods in the string and trace a birthday with adictionary data structure."
      ]
    },
    {
      "cell_type": "code",
      "metadata": {
        "colab": {
          "base_uri": "https://localhost:8080/"
        },
        "id": "N7dPq3UQNq81",
        "outputId": "2f59eac0-eaf0-4cb2-e282-a26cf6a474de"
      },
      "source": [
        "name=input(\"enter a name:\")\n",
        "dic={}\n",
        "for ps in name:\n",
        "    keys=dic.keys()\n",
        " \n",
        "    if(ps in keys):\n",
        "        dic[ps]=dic[ps]+1\n",
        "    else:\n",
        "        dic[ps]=1\n",
        " \n",
        "print(\"dictionary is:\",dic)"
      ],
      "execution_count": null,
      "outputs": [
        {
          "output_type": "stream",
          "text": [
            "enter a name:JNM\n",
            "dictionary is: {'J': 1, 'N': 1, 'M': 1}\n"
          ],
          "name": "stdout"
        }
      ]
    },
    {
      "cell_type": "code",
      "metadata": {
        "colab": {
          "base_uri": "https://localhost:8080/"
        },
        "id": "RVz9_tZDORiV",
        "outputId": "409d499f-b766-4b66-c703-4154611bc051"
      },
      "source": [
        "dob={\"jyothi\":\"15-01-2002\",\"slsd\":\"14-04-2002\"}\n",
        "name=input(\"enter which person dob u want:\")\n",
        "l=name.split()\n",
        "birth=\"\"\n",
        "for i in l:\n",
        "    if i in dob.keys():\n",
        "        pers=i\n",
        " \n",
        "print(\"\".join([pers,\"birthdayis:\",dob[pers]]))"
      ],
      "execution_count": null,
      "outputs": [
        {
          "output_type": "stream",
          "text": [
            "enter which person dob u want:jyothi\n",
            "jyothibirthdayis:15-01-2002\n"
          ],
          "name": "stdout"
        }
      ]
    },
    {
      "cell_type": "markdown",
      "metadata": {
        "id": "JzzqKQ80Ob4c"
      },
      "source": [
        " • EXERCISE - 6 :: DS - Continued\n",
        " \n",
        "a) Write a program combinelists that combines these lists into a dictionary.\n",
        " \n",
        "b) Write a program to count frequency of characters in a given file. Can you use characterfrequency to\n",
        " \n",
        "tell whether the given file is a Python program file, C program file or a text file?"
      ]
    },
    {
      "cell_type": "code",
      "metadata": {
        "colab": {
          "base_uri": "https://localhost:8080/"
        },
        "id": "HgoJiD7rOgJ0",
        "outputId": "cd26b2e4-bc6d-4904-d07d-7071841e4a3f"
      },
      "source": [
        "sub=[\"daa\",\"os\",\"dbms\",\"p&s\",\"ppl\",\"se\"]\n",
        "marks=[83,96,85,79,58,90]\n",
        "print(sub)\n",
        "print(marks)\n",
        "dic=dict(zip(sub,marks))\n",
        "print(dic)"
      ],
      "execution_count": null,
      "outputs": [
        {
          "output_type": "stream",
          "text": [
            "['daa', 'os', 'dbms', 'p&s', 'ppl', 'se']\n",
            "[83, 96, 85, 79, 58, 90]\n",
            "{'daa': 83, 'os': 96, 'dbms': 85, 'p&s': 79, 'ppl': 58, 'se': 90}\n"
          ],
          "name": "stdout"
        }
      ]
    },
    {
      "cell_type": "code",
      "metadata": {
        "id": "1krJETJbO3jf"
      },
      "source": [
        " \n",
        "filetypes=['.py','.c','.txt']\n",
        "fn=input(\"enter a file name:\")\n",
        "f=open(fn,\"r\")\n",
        "count=dict()\n",
        "for  ft in filetypes:\n",
        "     if(ft in  fn):\n",
        "           if(ft==\".py\"):\n",
        "             print(\"python file\")\n",
        "           elif(ft==\".c\"):\n",
        "             print(\"cfile\")\n",
        "           elif(ft==\".txt\"):\n",
        "             print(\"text file\")\n",
        " \n",
        " \n",
        "for line in f:\n",
        "     for ps in line:\n",
        "          if ps in count:\n",
        "               count[pa]=count[ps]+1\n",
        " \n",
        "          else:\n",
        "              count[ps]=1\n",
        " \n",
        " \n",
        "print(count)\n",
        "f.close()"
      ],
      "execution_count": null,
      "outputs": []
    },
    {
      "cell_type": "markdown",
      "metadata": {
        "id": "AcGuJtiMPMZT"
      },
      "source": [
        " • EXERCISE - 7 :: Files\n",
        " \n",
        "a) Write a program to print each line of a file in reverse order.\n",
        " \n",
        "b) Write a program to compute the number of characters, words and lines in a file."
      ]
    },
    {
      "cell_type": "code",
      "metadata": {
        "id": "YktUeboxPOWy"
      },
      "source": [
        "obj=open(\"sam.txt\",\"r\")\n",
        "if obj:\n",
        "    st=obj.read()\n",
        "    print(\"file content is:\")\n",
        "obj.close()\n",
        "print()\n",
        "lines=st.split('\\n')\n",
        "for ln in lines:\n",
        "    i=len(ln)-1\n",
        "    while(i>=0):\n",
        "      print(ln[i],end='')\n",
        "      i=i-1\n",
        "    print()"
      ],
      "execution_count": null,
      "outputs": []
    },
    {
      "cell_type": "code",
      "metadata": {
        "id": "O73ZHi_GPR6z"
      },
      "source": [
        "obj=open(\"sam.txt\",\"r\")\n",
        "if obj:\n",
        "    st=obj.read()\n",
        "    print(\"file content is:\")\n",
        "obj.close()\n",
        "print()\n",
        "nc=nw=nl=0\n",
        "for ch in st:\n",
        "    if(ps):\n",
        "        nc=nc+1\n",
        "    if(ps==''):\n",
        "        nw=nw+1\n",
        "    if(ps=='\\n'):\n",
        "        nl=nl+1\n",
        " \n",
        "print(\"number of characters in a file:\",nc)\n",
        "print(\"number of words in file is:\",nw)\n",
        "print(\"number of lines ins file:\",nl)"
      ],
      "execution_count": null,
      "outputs": []
    },
    {
      "cell_type": "markdown",
      "metadata": {
        "id": "cCmVcKgSPf7i"
      },
      "source": [
        " \n",
        "  • EXERCISE - 8 :: Functions\n",
        " \n",
        "a) Write a function ball collide that takes two balls as parameters and computes if they arecolliding. Your function should return a Boolean representing whether or not the balls arecolliding. Hint: Represent a ball on a plane as a tuple of (x, y, r), r being the radius If (distance between two balls centers) <= (sum of their radii) then (they are colliding)\n",
        " \n",
        "b) Find mean, median, mode for the given set of numbers in a list."
      ]
    },
    {
      "cell_type": "code",
      "metadata": {
        "id": "Wjp7sQ96PhYg"
      },
      "source": [
        "import math\n",
        "def ballcollide(b1tup,b2tup):\n",
        "    x1=b1tup[0]\n",
        "    y1=b1tup[1]\n",
        "    x2=b2tup[0]\n",
        "    y2=b2tup[1]\n",
        "    r1=b1tup[2]\n",
        "    r2=b2tup[2]\n",
        " \n",
        " \n",
        "    d=math.sqrt((x2-x1)**2+(y2-y1)**2)\n",
        "    if(d<=r1+r2):\n",
        "      return True\n",
        "    else:\n",
        "        return False\n",
        " \n",
        " \n",
        "ball1=(1,2,3)\n",
        "ball2=(3,2,1)\n",
        "c=ballcollide(ball1,ball2)\n",
        "if(c):\n",
        "    print(\"balls are collided\")\n",
        "else:\n",
        "    print(\"ball are not collided\")"
      ],
      "execution_count": null,
      "outputs": []
    },
    {
      "cell_type": "code",
      "metadata": {
        "id": "e80vKJpmPn7V",
        "colab": {
          "base_uri": "https://localhost:8080/"
        },
        "outputId": "276cc645-4240-40de-fb9a-1ada6d07f67d"
      },
      "source": [
        "def mean(numlist):\n",
        "    return sum(numlist)/len(numlist)\n",
        "def median(numlist):\n",
        "    numlist.sort()\n",
        "    print(numlist)\n",
        "    n=len(numlist)\n",
        "    print(\"total\",n)\n",
        "    mid=n//2\n",
        "    print(\"mid:\",mid)\n",
        "    if(n%2==0):\n",
        "        return numlist[mid]\n",
        "    else:\n",
        "        return (numlist[mid-1]+numlist[mid])/2\n",
        "def mode(numlist):\n",
        "    numlist.sort()\n",
        "    temp=[]\n",
        "    i=0\n",
        "    while i<len(numlist):\n",
        "        temp.append(numlist.count(numlist[i]))\n",
        "        i+=1\n",
        "    dic=dict(zip(numlist,temp))\n",
        "    modes={k for k, v in dic.items() \n",
        "  if(v==max(temp))}\n",
        "    return modes\n",
        "list=[1,1,2,2,3,4,5,3,3]\n",
        "print(\"mean of given list:\",mean(list))\n",
        "print(\"median of given list:\",median(list))\n",
        " \n",
        "print(\"mode of given list:\",mode(list))"
      ],
      "execution_count": null,
      "outputs": [
        {
          "output_type": "stream",
          "text": [
            "mean of given list: 2.6666666666666665\n",
            "[1, 1, 2, 2, 3, 3, 3, 4, 5]\n",
            "total 9\n",
            "mid: 4\n",
            "median of given list: 2.5\n",
            "mode of given list: {3}\n"
          ],
          "name": "stdout"
        }
      ]
    },
    {
      "cell_type": "markdown",
      "metadata": {
        "id": "mKwfgqmnP63Y"
      },
      "source": [
        " \n",
        "  • EXERCISE - 9 :: Functions - Continued\n",
        " \n",
        "a) Write a function nearly equal to test whether two strings are nearly equal. Two strings a and bare nearly equal when a can be generated by a single mutation on b.\n",
        " \n",
        "b) Write a function dup to find all duplicates in the list.\n",
        " \n",
        "c) Write a function unique to find all the unique elements of a list."
      ]
    },
    {
      "cell_type": "code",
      "metadata": {
        "colab": {
          "base_uri": "https://localhost:8080/"
        },
        "id": "04oJljuSQA9T",
        "outputId": "ab9cfadb-6418-43ef-8327-9f06ed6abb1c"
      },
      "source": [
        "def nearlyeq(str1,str2):\n",
        "    count=0\n",
        "    i=j=0\n",
        "    ss=0\n",
        "    while(i<len(str1)and j<len(str2)):\n",
        "        if(str1[i]!=str2[j]):\n",
        "            count+=1\n",
        "        if(len(str1)>len(str2)):\n",
        "            i+=1\n",
        " \n",
        "        elif(len(str1)==len(str2)):\n",
        "            pass\n",
        "        else:\n",
        "            i-=1     \n",
        "        if(count>1):\n",
        "             ss-=1\n",
        "             \n",
        "        i+=1\n",
        "        j+=1\n",
        "        if(count<2):\n",
        "             ss+=1\n",
        " \n",
        "    return ss\n",
        "s1=input(\"enter a string 1:\")\n",
        "s2=input(\"enter the string2:\")\n",
        "t=nearlyeq(s1,s2)\n",
        "if(t>1):\n",
        "    print(\"neraly equal0\")\n",
        "else:\n",
        "    print(\"not nearly equal\")"
      ],
      "execution_count": null,
      "outputs": [
        {
          "output_type": "stream",
          "text": [
            "enter a string 1:32\n",
            "enter the string2:98\n",
            "not nearly equal\n"
          ],
          "name": "stdout"
        }
      ]
    },
    {
      "cell_type": "code",
      "metadata": {
        "colab": {
          "base_uri": "https://localhost:8080/"
        },
        "id": "5pFCB7urQNhE",
        "outputId": "d9c381d1-849e-4d6f-8b40-8852ae6595c5"
      },
      "source": [
        "def dup(list):\n",
        "  list1=[]\n",
        "  for i in list:\n",
        "    count=list.count(i)\n",
        "    if(count>1 and (i not in list1)):\n",
        "        list1.append(i)\n",
        "        \n",
        "  print(\"the dups int he list are:\",list1)        \n",
        "list2=[1,2,1,2]\n",
        " \n",
        "dup(list2)"
      ],
      "execution_count": null,
      "outputs": [
        {
          "output_type": "stream",
          "text": [
            "the dups int he list are: [1, 2]\n"
          ],
          "name": "stdout"
        }
      ]
    },
    {
      "cell_type": "code",
      "metadata": {
        "colab": {
          "base_uri": "https://localhost:8080/"
        },
        "id": "xmJ3HgooQR_M",
        "outputId": "bfc8ccbf-db8c-40d7-ca11-7b814743f684"
      },
      "source": [
        "def unique(list1):\n",
        "  list2={}\n",
        " \n",
        "  for i in list1:\n",
        "    c=list1.count(i)\n",
        "    if c==1:\n",
        "      list2[i]=c\n",
        "  print(\"the unique elements in the list are:\",list2)\n",
        " \n",
        "list=[1,2,3,45,45,6,88,88,9]\n",
        "unique(list)"
      ],
      "execution_count": null,
      "outputs": [
        {
          "output_type": "stream",
          "text": [
            "the unique elements in the list are: {1: 1, 2: 1, 3: 1, 6: 1, 9: 1}\n"
          ],
          "name": "stdout"
        }
      ]
    },
    {
      "cell_type": "markdown",
      "metadata": {
        "id": "Vp3EQMNVQX28"
      },
      "source": [
        "  • EXERCISE - 10 :: Functions - Problem Solving\n",
        " \n",
        "a) Write a function cumulative product to compute cumulative product of a list of numbers.\n",
        " \n",
        "b) Write a function reverse to reverse a list. Without using the reverse function.\n",
        " \n",
        "c) Write function to compute gcd, lcm of two numbers. Each function shouldn’t exceed one line"
      ]
    },
    {
      "cell_type": "code",
      "metadata": {
        "id": "76jVQXSgQZ-8"
      },
      "source": [
        "def cumulative_product(list1,n):\n",
        "    list2=[]\n",
        "    i=0\n",
        "    list2.append(list1[i])\n",
        "    for i in range(1,n):\n",
        "        v=list1[i]*list2[i-1]\n",
        "        list2.append(v)\n",
        "        \n",
        "    print(list2)\n",
        "list3=[]\n",
        "n=int(input(\"enter size :\"))\n",
        "print(\"enter the data:\")\n",
        "for i in range(0,n):\n",
        "    x=int(input())\n",
        "    list3.append(x)\n",
        "cumulative_product(list3,n)"
      ],
      "execution_count": null,
      "outputs": []
    },
    {
      "cell_type": "code",
      "metadata": {
        "colab": {
          "base_uri": "https://localhost:8080/"
        },
        "id": "kyyOHXYxQlH5",
        "outputId": "49326d1d-1aa2-40c5-cb14-e7d702659e4f"
      },
      "source": [
        "def reverse_list(numlist):\n",
        "    temp=list1[::-1]\n",
        "    numlist=temp\n",
        "    return temp\n",
        "list1=[1,2,3,4]\n",
        "print(\"given list is :\",list1)\n",
        "print(\"after reverse function:\",reverse_list(list1))\n",
        "print(\"after list is:\",list1)"
      ],
      "execution_count": null,
      "outputs": [
        {
          "output_type": "stream",
          "text": [
            "given list is : [1, 2, 3, 4]\n",
            "after reverse function: [4, 3, 2, 1]\n",
            "after list is: [1, 2, 3, 4]\n"
          ],
          "name": "stdout"
        }
      ]
    },
    {
      "cell_type": "code",
      "metadata": {
        "colab": {
          "base_uri": "https://localhost:8080/"
        },
        "id": "ssPyo_SZQtAg",
        "outputId": "3474a8c3-28ca-4699-dcad-7e00196b502d"
      },
      "source": [
        "gcd=lambda a,b: a if b==0 else gcd(a,a%b)\n",
        "lcm=lambda a,b: (a*b)/gcd(a,b)\n",
        " \n",
        "x=4\n",
        "y=24\n",
        "print(\"gcd=\",gcd(x,y))\n",
        "print(\"lcm=\",lcm(x,y))"
      ],
      "execution_count": null,
      "outputs": [
        {
          "output_type": "stream",
          "text": [
            "gcd= 4\n",
            "lcm= 24.0\n"
          ],
          "name": "stdout"
        }
      ]
    },
    {
      "cell_type": "markdown",
      "metadata": {
        "id": "as-K93KEKFaL"
      },
      "source": [
        "  • EXERCISE - 11 :: Multi-D Lists\n",
        " \n",
        "a)Write a program that defines a matrix and prints.\n",
        " \n",
        "b) write a program to perform addition of two square matrices\n",
        " \n",
        "c) write a program to perform multiplication of two square matrices"
      ]
    },
    {
      "cell_type": "code",
      "metadata": {
        "colab": {
          "base_uri": "https://localhost:8080/"
        },
        "id": "lJg8gfX_K7Ap",
        "outputId": "d4b1dbae-7e1f-4a69-9502-44d6adbb0472"
      },
      "source": [
        "6\n",
        "matA=[[]]\n",
        "rows=int(input(\"Enter row size of matrix: \"))\n",
        "cols=int(input(\"Enter column size of matrix: \"))\n",
        "matA=[[int(input(\"Enter[%d,%d] value: \"%(i,j)))for j in range(cols)]for i in range(rows)]\n",
        "print(\"matrix is: \")\n",
        "for i in range(rows):\n",
        "  for j in range(cols):\n",
        "    print(matA[i][j],end='\\t')\n",
        "  print()"
      ],
      "execution_count": null,
      "outputs": [
        {
          "output_type": "stream",
          "text": [
            "Enter row size of matrix: 3\n",
            "Enter column size of matrix: 3\n",
            "Enter[0,0] value: 1\n",
            "Enter[0,1] value: 2\n",
            "Enter[0,2] value: 3\n",
            "Enter[1,0] value: 4\n",
            "Enter[1,1] value: 5\n",
            "Enter[1,2] value: 6\n",
            "Enter[2,0] value: 7\n",
            "Enter[2,1] value: 8\n",
            "Enter[2,2] value: 9\n",
            "matrix is: \n",
            "1\t2\t3\t\n",
            "4\t5\t6\t\n",
            "7\t8\t9\t\n"
          ],
          "name": "stdout"
        }
      ]
    },
    {
      "cell_type": "code",
      "metadata": {
        "colab": {
          "base_uri": "https://localhost:8080/"
        },
        "id": "1rDUfkMNLhFi",
        "outputId": "9b394a73-b3d1-462e-fc35-4bc45af3e2e3"
      },
      "source": [
        "44\n",
        "def matRead(r,c):\n",
        "  return[[int(input(\"[%d,%d]value:\"%(i,j)))for j in range(c)]for i in range(r)]\n",
        "def matDisp(mat,r,c):\n",
        "  for i in range(r):\n",
        "    for j in range(c):\n",
        "      print(mat[i][j],end='\\t')\n",
        "    print()\n",
        "matA=[[]]\n",
        "matB=[[]]       \n",
        "matSum=[[]]\n",
        "rows=int(input(\"Enter row size of the matrix: \"))\n",
        "cols=int(input(\"Enter column size of the matrix: \"))\n",
        "if rows==cols:\n",
        "  print(\"Enter Matrix-A elements: \")\n",
        "  matA=matRead(rows,cols)\n",
        " \n",
        "  print(\"Enter Matrix-B elements: \")\n",
        "  matB=matRead(rows,cols)\n",
        " \n",
        "  print(\"Matrix-A is: \")\n",
        "  matDisp(matA,rows,cols)\n",
        " \n",
        "  print(\"Matrix-B is: \")\n",
        "  matDisp(matB,rows,cols)\n",
        "  matSum=[[matA[i][j]+matB[i][j]for j in range(cols)]for i in range(rows)]\n",
        "  print(\"sum of matrices is: \")\n",
        "  matDisp(matSum,rows,cols)\n",
        "else:\n",
        "  print(\"Matrices addition is not possible\")"
      ],
      "execution_count": null,
      "outputs": [
        {
          "output_type": "stream",
          "text": [
            "Enter row size of the matrix: 3\n",
            "Enter column size of the matrix: 3\n",
            "Enter Matrix-A elements: \n",
            "[0,0]value:2\n",
            "[0,1]value:3\n",
            "[0,2]value:4\n",
            "[1,0]value:5\n",
            "[1,1]value:6\n",
            "[1,2]value:7\n",
            "[2,0]value:8\n",
            "[2,1]value:9\n",
            "[2,2]value:1\n",
            "Enter Matrix-B elements: \n",
            "[0,0]value:1\n",
            "[0,1]value:0\n",
            "[0,2]value:2\n",
            "[1,0]value:3\n",
            "[1,1]value:4\n",
            "[1,2]value:9\n",
            "[2,0]value:8\n",
            "[2,1]value:7\n",
            "[2,2]value:6\n",
            "Matrix-A is: \n",
            "2\t3\t4\t\n",
            "5\t6\t7\t\n",
            "8\t9\t1\t\n",
            "Matrix-B is: \n",
            "1\t0\t2\t\n",
            "3\t4\t9\t\n",
            "8\t7\t6\t\n",
            "sum of matrices is: \n",
            "3\t3\t6\t\n",
            "8\t10\t16\t\n",
            "16\t16\t7\t\n"
          ],
          "name": "stdout"
        }
      ]
    },
    {
      "cell_type": "code",
      "metadata": {
        "colab": {
          "base_uri": "https://localhost:8080/"
        },
        "id": "RbuNSb3-MCJ7",
        "outputId": "c0c1708d-35b4-4b8b-9fc6-e959e9c27330"
      },
      "source": [
        "6\n",
        "def  matRead(r,c):  \n",
        "  return[[int(input(\"[%d,%d]value: \"%(i,j)))for j in range(c)]for i in range(r)]\n",
        "def matDisp(mat,r,c):\n",
        "  for i in range(r):\n",
        "    for j in range(c):\n",
        "      print(mat[i][j],end='\\t')\n",
        "matA=[[]]\n",
        "matB=[[]]\n",
        "matMul=[[]]\n",
        "rows=int(input(\"Enter row size of the Matrix: \"))\n",
        "cols=int(input(\"Enter column size of the Matrix: \"))\n",
        " \n",
        "if rows==cols:\n",
        "  print(\"Enter Matrix-A: \")\n",
        "  matA=matRead(rows,cols)\n",
        "  print(\" Enter Matrix-B: \")\n",
        "  matB=matRead(rows,cols)\n",
        " \n",
        "  matMul=[[0 for j in range(cols)]for i in range(rows)]\n",
        "  for i in range(rows):\n",
        "    for j in range(cols):\n",
        "      for k in range(cols):\n",
        "        matMul[i][j]+=matA[i][k]*matB[k][j]\n",
        "  print(\"Matrix-A is: \")\n",
        "  matDisp(matA,rows,cols)\n",
        " \n",
        "  print(\"\\nMatrix-B is: \")\n",
        "  matDisp(matB,rows,cols)\n",
        " \n",
        "  print(\"\\nMultiplication of matrices is: \")\n",
        "  matDisp(matMul,rows,cols)\n",
        "else:\n",
        "  print(\"Matrices Multiplication is not possible is\")"
      ],
      "execution_count": null,
      "outputs": [
        {
          "output_type": "stream",
          "text": [
            "Enter row size of the Matrix: 2\n",
            "Enter column size of the Matrix: 2\n",
            "Enter Matrix-A: \n",
            "[0,0]value: 3\n",
            "[0,1]value: 4\n",
            "[1,0]value: 5\n",
            "[1,1]value: 6\n",
            " Enter Matrix-B: \n",
            "[0,0]value: 5\n",
            "[0,1]value: 7\n",
            "[1,0]value: 9\n",
            "[1,1]value: 2\n",
            "Matrix-A is: \n",
            "3\t4\t5\t6\t\n",
            "Matrix-B is: \n",
            "5\t7\t9\t2\t\n",
            "Multiplication of matrices is: \n",
            "51\t29\t79\t47\t"
          ],
          "name": "stdout"
        }
      ]
    },
    {
      "cell_type": "markdown",
      "metadata": {
        "id": "YYvdJm5DNHfs"
      },
      "source": [
        " • EXERCISE - 12 :: Modules\n",
        " \n",
        "a) Install package requests,flasks and explore them.using(pip)\n",
        " \n",
        "b) write a script that imports requests and fetch content from the page.Eg(wiki)\n",
        " \n",
        "c) write a simple script that serves a simple HTTPResponse and simple HTML page"
      ]
    },
    {
      "cell_type": "markdown",
      "metadata": {
        "id": "25BDka1sNW6k"
      },
      "source": [
        "  • EXERCISE - 13 :: OOP\n",
        " \n",
        "a)Class variables and instance variables and illsustration of the self variable\n",
        "1)Robot"
      ]
    },
    {
      "cell_type": "code",
      "metadata": {
        "colab": {
          "base_uri": "https://localhost:8080/"
        },
        "id": "SeYCBFxmNo7g",
        "outputId": "c1163d90-47d8-4b01-d7d5-7d23282d3436"
      },
      "source": [
        " \n",
        " \n",
        "class Robot:\n",
        "    what=\"Machine\"\n",
        "    name=\"Saara\"\n",
        "    version=1.0\n",
        "    speed=\"1THz\"\n",
        "    memory=\"1ZB\"\n",
        " \n",
        "    def update(upd):\n",
        "        upd.version=2.0\n",
        "        upd.speed=\"2THz\"\n",
        "        upd.memory=\"2ZB\"\n",
        " \n",
        "    def disp(self):\n",
        "        print(\"Myself is a\",robj.what)\n",
        "        print(\"MyName is a\",robj.name)\n",
        "        print(\"Version :\",robj.version)\n",
        "        print(\"Speed : \",robj.speed)\n",
        "        print(\"Memory: \",robj.memory)\n",
        " \n",
        "robj=Robot()\n",
        "robj.disp()\n",
        " \n",
        "print(\"---------------Update---------\")\n",
        "robj.update()\n",
        "robj.disp()"
      ],
      "execution_count": null,
      "outputs": [
        {
          "output_type": "stream",
          "text": [
            "Myself is a Machine\n",
            "MyName is a Saara\n",
            "Version : 1.0\n",
            "Speed :  1THz\n",
            "Memory:  1ZB\n",
            "---------------Update---------\n",
            "Myself is a Machine\n",
            "MyName is a Saara\n",
            "Version : 2.0\n",
            "Speed :  2THz\n",
            "Memory:  2ZB\n"
          ],
          "name": "stdout"
        }
      ]
    },
    {
      "cell_type": "markdown",
      "metadata": {
        "id": "m-pYjTzJOBx4"
      },
      "source": [
        " 2)ATM Machine"
      ]
    },
    {
      "cell_type": "code",
      "metadata": {
        "colab": {
          "base_uri": "https://localhost:8080/"
        },
        "id": "MsMhUkoiODRu",
        "outputId": "0f840151-c9bb-4eb8-f896-5803507f2d6d"
      },
      "source": [
        " \n",
        "class ATM:\n",
        "    def __init__(self):\n",
        "        self.balance=0\n",
        "        print(\"New Account\")\n",
        "        \n",
        "    def enquire(self):\n",
        "        print(\"Balance: \",self.balance)\n",
        "        \n",
        "    def deposit(self):\n",
        "        amount=int(input(\"Enter the Deposit Amount:\"))\n",
        "        self.balance+=amount\n",
        "        self.enquire()\n",
        " \n",
        "    def withdraw(self):\n",
        "        amount=int(input(\"Enter the Withdraw Amount: \"))\n",
        "        if self.balance<amount:\n",
        "            print(\"Insufficient Balance.....!\")\n",
        "        else:\n",
        "            self.balance-=amount\n",
        "            self.enquire()\n",
        " \n",
        "aobj=ATM()\n",
        "while(True):\n",
        "    print(\"*****Menu****\")\n",
        "    print(\"1.Deposit\")\n",
        "    print(\"2.Withdarw\")\n",
        "    print(\"3.Balance\")\n",
        "    print(\"0.Exit\")\n",
        "    ch=int(input(\"Enter Your Choice: \"))\n",
        "    if ch==0:\n",
        "        break\n",
        "    elif ch==1:\n",
        "        aobj.deposit()\n",
        "    elif ch==2:\n",
        "        aobj.withdraw()\n",
        "    elif ch==3:\n",
        "        aobj.enquire()\n",
        "    else:\n",
        "        print(\"Invalid choice:\")\n",
        "        pass"
      ],
      "execution_count": null,
      "outputs": [
        {
          "output_type": "stream",
          "text": [
            "New Account\n",
            "*****Menu****\n",
            "1.Deposit\n",
            "2.Withdarw\n",
            "3.Balance\n",
            "0.Exit\n",
            "Enter Your Choice: 1\n",
            "Enter the Deposit Amount:5000\n",
            "Balance:  5000\n",
            "*****Menu****\n",
            "1.Deposit\n",
            "2.Withdarw\n",
            "3.Balance\n",
            "0.Exit\n",
            "Enter Your Choice: 2\n",
            "Enter the Withdraw Amount: 3000\n",
            "Balance:  2000\n",
            "*****Menu****\n",
            "1.Deposit\n",
            "2.Withdarw\n",
            "3.Balance\n",
            "0.Exit\n",
            "Enter Your Choice: 3\n",
            "Balance:  2000\n",
            "*****Menu****\n",
            "1.Deposit\n",
            "2.Withdarw\n",
            "3.Balance\n",
            "0.Exit\n",
            "Enter Your Choice: 4\n",
            "Invalid choice:\n",
            "*****Menu****\n",
            "1.Deposit\n",
            "2.Withdarw\n",
            "3.Balance\n",
            "0.Exit\n",
            "Enter Your Choice: 0\n"
          ],
          "name": "stdout"
        }
      ]
    },
    {
      "cell_type": "markdown",
      "metadata": {
        "id": "gBf3pP0pQOQm"
      },
      "source": [
        "   • EXERCISE - 14 :: GUI,Graphics\n",
        " \n",
        "1.Write a GUI for an Expression Calculator using tk.\n",
        " \n",
        "2.Write a program to implement the following figures using turtle"
      ]
    },
    {
      "cell_type": "code",
      "metadata": {
        "id": "q7MvXTh4QqNr"
      },
      "source": [
        " import turtle\n",
        "c=[\"red\",\"green\",\"blue\"]\n",
        "i=0\n",
        "turtle.pensize(5)\n",
        " \n",
        "for angle in range(0,360,30):\n",
        "    if i>2:\n",
        "        i=0\n",
        "    turtle.color(c[i])\n",
        "    turtle.seth(angle)\n",
        "    turtle.circle(50)\n",
        "    i+=1"
      ],
      "execution_count": null,
      "outputs": []
    },
    {
      "cell_type": "code",
      "metadata": {
        "id": "1cokXRpOQstc"
      },
      "source": [
        " import turtle\n",
        "turtle.pensize(1)\n",
        " \n",
        "for i in range(36):\n",
        "    for j in range(4):\n",
        "        turtle.forward(70)\n",
        "        turtle.left(90)\n",
        "    turtle.left(10)"
      ],
      "execution_count": null,
      "outputs": []
    },
    {
      "cell_type": "markdown",
      "metadata": {
        "id": "xwXmbGh4RDZ4"
      },
      "source": [
        " • EXERCISE - 15 :: Testing\n",
        " \n",
        "a)Write a test case to check the function even numbers which return true on passing a list of all even numbers.\n",
        " \n",
        "b) Write a test-case to check the function reverse string which returns the reversed string"
      ]
    },
    {
      "cell_type": "code",
      "metadata": {
        "id": "uYSDToNvRNy8",
        "colab": {
          "base_uri": "https://localhost:8080/"
        },
        "outputId": "5c730017-dcbe-4982-c180-cd933c55e6f0"
      },
      "source": [
        " def evnNo(num):\n",
        "    stat=True\n",
        " \n",
        "    for i in num:\n",
        "        if i%2 ==1:\n",
        "            stat=False\n",
        "            break\n",
        "    return stat\n",
        "        \n",
        "numbers=[]\n",
        "for i in range(0,2):\n",
        "    numbers.append(int(input(\"Enter a value :\")))\n",
        "print(evnNo(numbers))"
      ],
      "execution_count": null,
      "outputs": [
        {
          "output_type": "stream",
          "text": [
            "Enter a value :4\n",
            "Enter a value :6\n",
            "True\n"
          ],
          "name": "stdout"
        }
      ]
    },
    {
      "cell_type": "code",
      "metadata": {
        "id": "ARkejJZ6RjJL",
        "colab": {
          "base_uri": "https://localhost:8080/"
        },
        "outputId": "7fed95e2-d65d-4336-e654-777d1a44a627"
      },
      "source": [
        " \n",
        " \n",
        "def rev_str(st):\n",
        "    return st[::-1]\n",
        " \n",
        "st=\"swarnandhra\"\n",
        "print(\"Given String is: \",st)\n",
        " \n",
        "print(\"Reverse is: \",rev_str(st))"
      ],
      "execution_count": null,
      "outputs": [
        {
          "output_type": "stream",
          "text": [
            "Given String is:  swarnandhra\n",
            "Reverse is:  arhdnanraws\n"
          ],
          "name": "stdout"
        }
      ]
    }
  ]
}